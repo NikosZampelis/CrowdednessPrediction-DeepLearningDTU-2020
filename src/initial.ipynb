{
 "metadata": {
  "language_info": {
   "codemirror_mode": {
    "name": "ipython",
    "version": 3
   },
   "file_extension": ".py",
   "mimetype": "text/x-python",
   "name": "python",
   "nbconvert_exporter": "python",
   "pygments_lexer": "ipython3",
   "version": "3.6.9-final"
  },
  "orig_nbformat": 2,
  "kernelspec": {
   "name": "Python 3.6.9 64-bit",
   "display_name": "Python 3.6.9 64-bit",
   "metadata": {
    "interpreter": {
     "hash": "31f2aee4e71d21fbe5cf8b01ff0e069b9275f58929596ceb00d14d90e3e16cd6"
    }
   }
  }
 },
 "nbformat": 4,
 "nbformat_minor": 2,
 "cells": [
  {
   "cell_type": "code",
   "execution_count": 7,
   "metadata": {},
   "outputs": [
    {
     "output_type": "error",
     "ename": "SyntaxError",
     "evalue": "invalid syntax (<ipython-input-7-6bb1591447ed>, line 6)",
     "traceback": [
      "\u001b[0;36m  File \u001b[0;32m\"<ipython-input-7-6bb1591447ed>\"\u001b[0;36m, line \u001b[0;32m6\u001b[0m\n\u001b[0;31m    data_destination =\u001b[0m\n\u001b[0m                       ^\u001b[0m\n\u001b[0;31mSyntaxError\u001b[0m\u001b[0;31m:\u001b[0m invalid syntax\n"
     ]
    }
   ],
   "source": [
    "# import tensorflow as tf\n",
    "# import pandas as pd\n",
    "import numpy as np\n",
    "import pickle\n",
    "\n",
    "data_destination = \"./../MoviaFTP/\"\n",
    "\n",
    "\n",
    "def load_data(fp = '', pickle = False):\n",
    "    data = np.load(fp, allow_pickle = pickle )\n",
    "    return data\n",
    "\n",
    "def transform_matrix_fwd(matrix):\n",
    "    \"\"\"\n",
    "    do transformation for the forward route:\n",
    "    'KDST' 'EGEV' 'HHLS' 'HHM' 'GLHO' 'NÆST' 'KLBV' 'RYST' 'HKP' 'NPST1'\n",
    "    \"\"\"\n",
    "    link_counts = []\n",
    "    for i in range(len(matrix)-1):\n",
    "        sum = np.sum(matrix[0:i+1, i+1:])\n",
    "        link_counts.append(sum)\n",
    "    return link_counts\n",
    "\n",
    "def transform_matrix_bwd(matrix):\n",
    "    \"\"\"\n",
    "    do a transformation for the reverse route:\n",
    "    'NPST1' 'HKP' 'RYST' 'KLBV' 'NÆST' 'GLHO' 'HHM' 'HHLS' 'EGEV' 'KDST' \n",
    "    \"\"\"\n",
    "    link_counts = []\n",
    "    for i in range(len(matrix)-1):\n",
    "        sum = np.sum(matrix[i+1:, 0:i+1])\n",
    "        link_counts.append(sum)\n",
    "    link_counts.reverse()\n",
    "    return link_counts\n",
    "\n",
    "\n",
    "def transform_all(matrices):\n",
    "    \"\"\"Returns: tuple (fwd,bwd) of the route counts of the matrices\n",
    "    \"\"\"\n",
    "    all_counts_fwd = []\n",
    "    all_counts_bwd = []\n",
    "    for i in range(len(matrices)):\n",
    "        all_counts_fwd.append(transform_matrix_fwd(matrices[i]))\n",
    "        all_counts_bwd.append(transform_matrix_bwd(matrices[i]))\n",
    "    return (all_counts_fwd, all_counts_bwd)   \n",
    "\n",
    "\n",
    "demand_matrices = load_data(data_destination + 'od-demand-202010-150.npy')\n",
    "\n",
    "stop_names = load_data(data_destination + 'od_stop-202010-150.npy', pickle = True)\n",
    "print(\"bus stops: \", stop_names[0:10])\n",
    "\n",
    "\n",
    "dates = load_data(data_destination + 'od_time-202010-150.npy')\n",
    "dates.shape = [np.shape(dates)[0], 1]\n",
    "print(\"dimensions of date data: \", np.shape(dates))\n",
    "\n",
    "# Finally we transform the data from matrices to link counts\n",
    "route_counts = transform_all(demand_matrices)\n",
    "print(\"dimension of transformed matrices: \", np.shape(route_counts[0]))\n",
    "\n",
    "test = transform_matrix_fwd(demand_matrices[5700])\n",
    "print(\"test: \", test)\n",
    "print(demand_matrices[5700])"
   ]
  }
 ]
}